{
  "nbformat": 4,
  "nbformat_minor": 0,
  "metadata": {
    "colab": {
      "provenance": [],
      "authorship_tag": "ABX9TyM4GD/ucL+M/tEOIGFKPTUY",
      "include_colab_link": true
    },
    "kernelspec": {
      "name": "python3",
      "display_name": "Python 3"
    },
    "language_info": {
      "name": "python"
    }
  },
  "cells": [
    {
      "cell_type": "markdown",
      "metadata": {
        "id": "view-in-github",
        "colab_type": "text"
      },
      "source": [
        "<a href=\"https://colab.research.google.com/github/EAFIT-BI/BI-Introduction-2025-I/blob/main/Gesti%C3%B3n_de_datos.ipynb\" target=\"_parent\"><img src=\"https://colab.research.google.com/assets/colab-badge.svg\" alt=\"Open In Colab\"/></a>"
      ]
    },
    {
      "cell_type": "markdown",
      "source": [
        "# Gestión de datos con SQLite"
      ],
      "metadata": {
        "id": "PPNq1ocEQuZw"
      }
    },
    {
      "cell_type": "code",
      "source": [
        "#Importamos las librerías para la gestión de la base de datos\n",
        "import os #librería del sistema operativo\n",
        "import pandas as pd #librería para gestión de tablas\n",
        "import sqlite3 #librería para gestión de bases de datos\n",
        "import SQLManagment #librería con funciones Python-SQL"
      ],
      "metadata": {
        "id": "0Jb8DVpKSYJQ"
      },
      "execution_count": null,
      "outputs": []
    },
    {
      "cell_type": "code",
      "source": [
        "archivo = \"/content/MisCanciones.xlsx\"\n",
        "db = \"MisCanciones.db\""
      ],
      "metadata": {
        "id": "WgDDAEVLWNvm"
      },
      "execution_count": null,
      "outputs": []
    },
    {
      "cell_type": "code",
      "source": [
        "# Pasamos la información del archivo de excel\n",
        "# a la función que la convierte en una base de datos .db\n",
        "\n",
        "SQLManagment.archivo_a_sql(archivo, db)"
      ],
      "metadata": {
        "colab": {
          "base_uri": "https://localhost:8080/"
        },
        "id": "Vxv3X6P5WwdA",
        "outputId": "201a29d7-09ad-413c-da52-fd7423398387"
      },
      "execution_count": null,
      "outputs": [
        {
          "output_type": "stream",
          "name": "stdout",
          "text": [
            "✅ Hoja 'Artistas' importada como tabla 'Artistas'.\n",
            "✅ Hoja 'Canciones' importada como tabla 'Canciones'.\n",
            "🔒 Conexión cerrada.\n"
          ]
        }
      ]
    },
    {
      "cell_type": "code",
      "source": [
        "SQLManagment.mostrar_tablas(db)"
      ],
      "metadata": {
        "colab": {
          "base_uri": "https://localhost:8080/"
        },
        "id": "TRjU74kQZJks",
        "outputId": "b4fd96bc-2f17-4f7a-d412-cb8e493bf5ae"
      },
      "execution_count": null,
      "outputs": [
        {
          "output_type": "stream",
          "name": "stdout",
          "text": [
            "📊 Tablas en la base de datos:\n",
            " - Artistas\n",
            " - Canciones\n",
            "🔒 Conexión cerrada.\n"
          ]
        },
        {
          "output_type": "execute_result",
          "data": {
            "text/plain": [
              "['Artistas', 'Canciones']"
            ]
          },
          "metadata": {},
          "execution_count": 8
        }
      ]
    },
    {
      "cell_type": "code",
      "source": [
        "SQLManagment.mostrar_columnas(db, \"Artistas\")"
      ],
      "metadata": {
        "colab": {
          "base_uri": "https://localhost:8080/"
        },
        "id": "Pyaz2KguZcU1",
        "outputId": "4d7a67ed-919b-41f7-f319-972adf390d36"
      },
      "execution_count": null,
      "outputs": [
        {
          "output_type": "stream",
          "name": "stdout",
          "text": [
            "📋 Columnas de la tabla 'Artistas':\n",
            " - identificador\n",
            " - nombre\n",
            " - año de lanzamiento\n",
            " - tipo\n",
            " - género principal\n",
            "🔒 Conexión cerrada.\n"
          ]
        },
        {
          "output_type": "execute_result",
          "data": {
            "text/plain": [
              "['identificador', 'nombre', 'año de lanzamiento', 'tipo', 'género principal']"
            ]
          },
          "metadata": {},
          "execution_count": 10
        }
      ]
    },
    {
      "cell_type": "code",
      "source": [
        "# ¿Cuál es el nombre y el género principal de todos los artistas\n",
        "# de la colección\n",
        "\n",
        "consulta = '''SELECT nombre,\n",
        "                    \"género principal\"\n",
        "              FROM Artistas\n",
        "            '''\n",
        "\n",
        "SQLManagment.ejecutar_consulta(consulta, db)"
      ],
      "metadata": {
        "colab": {
          "base_uri": "https://localhost:8080/"
        },
        "id": "s5LEE0x9aKqS",
        "outputId": "d615c36c-b4a8-419c-c746-91d2ee67ec75"
      },
      "execution_count": null,
      "outputs": [
        {
          "output_type": "execute_result",
          "data": {
            "text/plain": [
              "[('Carlos Vives', 'Vallenato'),\n",
              " ('Niche', 'Salsa'),\n",
              " ('Shakira', 'Pop'),\n",
              " ('Binomio\\xa0de Oro\\xa0de\\xa0América', 'Vallenato'),\n",
              " ('J Balvin', 'Urbano Latino')]"
            ]
          },
          "metadata": {},
          "execution_count": 11
        }
      ]
    },
    {
      "cell_type": "code",
      "source": [
        "# ¿Cuál es el título y la duración de todas las canciones de la colección?\n",
        "\n",
        "consulta = 'select título, duración from Canciones'\n",
        "\n",
        "SQLManagment.ejecutar_consulta(consulta, db)"
      ],
      "metadata": {
        "colab": {
          "base_uri": "https://localhost:8080/"
        },
        "id": "Siu9tsdWcFVI",
        "outputId": "c034eb22-b6e6-4794-ee19-803d396ad95c"
      },
      "execution_count": null,
      "outputs": [
        {
          "output_type": "execute_result",
          "data": {
            "text/plain": [
              "[('La tierra del olvido', '04:25:00.000000'),\n",
              " ('Ojos así', '03:57:00.000000'),\n",
              " ('Mi gente', '03:05:00.000000'),\n",
              " ('Ambiente', '04:08:00.000000'),\n",
              " ('Cali Pachanguero', '04:51:00.000000'),\n",
              " ('La creciente', '03:04:00.000000'),\n",
              " ('Sueños de conquista', '04:02:00.000000'),\n",
              " ('Carito', '03:39:00.000000'),\n",
              " ('\\nAna Mile', '05:39:00.000000'),\n",
              " ('Ginza', '03:49:00.000000'),\n",
              " ('Octavo día', '04:32:00.000000'),\n",
              " ('Quiero verte sonreir', '03:18:00.000000')]"
            ]
          },
          "metadata": {},
          "execution_count": 13
        }
      ]
    }
  ]
}