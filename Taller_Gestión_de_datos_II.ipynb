{
  "nbformat": 4,
  "nbformat_minor": 0,
  "metadata": {
    "colab": {
      "provenance": [],
      "authorship_tag": "ABX9TyMjWi8D9gkHu3wrQx1xUgoZ",
      "include_colab_link": true
    },
    "kernelspec": {
      "name": "python3",
      "display_name": "Python 3"
    },
    "language_info": {
      "name": "python"
    }
  },
  "cells": [
    {
      "cell_type": "markdown",
      "metadata": {
        "id": "view-in-github",
        "colab_type": "text"
      },
      "source": [
        "<a href=\"https://colab.research.google.com/github/EAFIT-BI/BI-Introduction-2025-I/blob/main/Taller_Gesti%C3%B3n_de_datos_II.ipynb\" target=\"_parent\"><img src=\"https://colab.research.google.com/assets/colab-badge.svg\" alt=\"Open In Colab\"/></a>"
      ]
    },
    {
      "cell_type": "markdown",
      "source": [
        "# Taller\n",
        "\n",
        "1. ¿Cuál es la pregunta que se está resolviendo con la siguiente consulta?\n",
        "\n",
        "\n",
        "\n",
        "```\n",
        " SELECT título,\n",
        " idioma\n",
        " FROM Canciones\n",
        " WHERE \"álbum original\" IS NULL AND\n",
        " idioma = 'español'\n",
        "```\n",
        "2. Proponga una consulta SQL para responder: ¿Cuál es el título y la duración de las canciones que contienen la palabra *La* al inicio de su título?\n",
        "\n",
        "3. ¿Cuál es la pregunta que se resuelve con la siguiente consulta?\n",
        "\n",
        "\n",
        "\n",
        "```\n",
        " SELECT DISTINCT\n",
        " \"sello discográfico\"\n",
        " FROM Álbumes\n",
        " WHERE\n",
        " \"fecha de lanzamiento\" NOT BETWEEN '1990-01-01 00:00:00'\n",
        " AND '2020-12-31 23:59:59' OR \"fecha de lanzamiento\" IS NULL\n",
        "```\n",
        "\n",
        "4. ¿Cuál es la pregunta o necesidad de datos que se resuelve con la siguiente consulta? ¿Cuál es el conjunto de datos resultante?\n",
        "\n",
        "\n",
        "\n",
        "```\n",
        "SELECT nombre,\n",
        " \"año de lanzamiento\",\n",
        " tipo\n",
        " FROM Artistas\n",
        " WHERE((2025 - \"año de lanzamiento\") BETWEEN 20 AND 40) AND  \"año de retiro\" IS NULL\n",
        " ORDER BY nombre DESC\n",
        " ```\n",
        "5. Proponga una consulta SQL que permita responder: ¿cuáles son los sellos discográficos que han lanzado álbumes el mismo año de la fundación de la empresa Apple?\n",
        "\n",
        "6. Seleccione la opción que expresa mejor lo que se obtiene con la siguiente consulta SQL. Argumente las razones de su decisión:\n",
        "\n",
        "  a. El identificador, el nombre y el año de lanzamiento de los artistas cuyo nombre contiene alguna vocal.\n",
        "\n",
        "  b. El identificador, el nombre y el año de lanzamiento de los artistas cuyo nombre termina con alguna vocal.\n",
        "\n",
        "  c. El identificador, el nombre y el año de lanzamiento de los artistas cuyo nombre no termina con alguna vocal.\n",
        "\n",
        "  d. El identificador, el nombre y el año de lanzamiento de todos los artistas.\n",
        "\n",
        "```\n",
        " SELECT identificador,\n",
        " nombre,\n",
        " \"año de lanzamiento\"\n",
        " FROM Artistas\n",
        " WHERE nombre NOT LIKE '%A' OR\n",
        " nombre NOT LIKE '%E' OR\n",
        " nombre NOT LIKE '%I' OR\n",
        " nombre NOT LIKE '%O' OR\n",
        " nombre NOT LIKE '%U'\n",
        "```\n",
        "\n",
        "7. ¿Cuál será el resultado luego de ejecutar la siguiente consulta? Explique su respuesta:\n",
        "\n",
        "```\n",
        " SELECT DISTINCT\n",
        " título\n",
        " FROM Álbumes\n",
        " WHERE \"fecha de lanzamiento\" < '2000-10-31 00:00:00' OR\n",
        " \"fecha de lanzamiento\" = NULL\n",
        "```\n",
        "\n",
        "8. Proponga una consulta SQL que permita responder: ¿cuál es el nombre y la duración de las canciones de género vallenato, salsa o pop que son interpretadas por solistas?"
      ],
      "metadata": {
        "id": "Zu0Ruv5cBfcZ"
      }
    }
  ]
}